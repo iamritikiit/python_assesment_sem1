{
 "cells": [
  {
   "cell_type": "markdown",
   "metadata": {},
   "source": [
    "Q.Create a dictionary whose keys are the names of your family members and friends, and the values are the list of fruits they like to eat. Now if the user gives a fruit as input, the code should print the list of names who like this fruit. Write another code to print the list of people who do not like this fruit. Using this dictionary as input, write a code to make a consolidated list of all the fruit names present in the values of various keys. This list should not have any duplicate entries. Do not use the set() function."
   ]
  },
  {
   "cell_type": "code",
   "execution_count": 12,
   "metadata": {},
   "outputs": [
    {
     "name": "stdout",
     "output_type": "stream",
     "text": [
      "those peole who like mango is: ['Santa']\n",
      "those people who don't like mango is: ['Banta', 'Xavier']\n",
      "consolidated list is: ['mango', 'kiwi', 'banana', 'apple', 'pineapple', 'orange', 'grape']\n"
     ]
    }
   ],
   "source": [
    "my_dict={\"Santa\":[\"mango\",\"kiwi\",\"banana\"],\"Banta\":[\"apple\",\"kiwi\",\"pineapple\"],\"Xavier\":[\"orange\",\"grape\"]}\n",
    "lst_fruit=[]\n",
    "lst_like=[]\n",
    "lst_unlike=[]\n",
    "#making consolidated list of fruits which family members like(no duplicate entries)\n",
    "for value in my_dict.values():\n",
    "    for i in value:\n",
    "        if i not in lst_fruit:\n",
    "            lst_fruit.append(i)\n",
    "fruit_name=input(\"enter a fruit name\") #taking input from the user as fruit name\n",
    "if fruit_name in lst_fruit: #checking whether the fruit name is in the list or not\n",
    "#Now iterating over the values in dictionary and do accordingly\n",
    "    for key,value in my_dict.items():\n",
    "        if fruit_name in value:\n",
    "            lst_like.append(key)\n",
    "        else:\n",
    "            lst_unlike.append(key)\n",
    "    print(\"those peole who like\",fruit_name,\"is:\",lst_like)\n",
    "    print(\"those people who don't like\",fruit_name,\"is:\",lst_unlike)\n",
    "    print(\"consolidated list is:\",lst_fruit)\n",
    "else:\n",
    "    print(\"enter a valid fruit name\")\n",
    "\n",
    "    \n",
    "            "
   ]
  }
 ],
 "metadata": {
  "kernelspec": {
   "display_name": "Python 3",
   "language": "python",
   "name": "python3"
  },
  "language_info": {
   "codemirror_mode": {
    "name": "ipython",
    "version": 3
   },
   "file_extension": ".py",
   "mimetype": "text/x-python",
   "name": "python",
   "nbconvert_exporter": "python",
   "pygments_lexer": "ipython3",
   "version": "3.11.4"
  }
 },
 "nbformat": 4,
 "nbformat_minor": 2
}
