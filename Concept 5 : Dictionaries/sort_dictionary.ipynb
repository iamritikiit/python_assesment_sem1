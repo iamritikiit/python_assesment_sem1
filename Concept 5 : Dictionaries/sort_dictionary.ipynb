{
 "cells": [
  {
   "cell_type": "markdown",
   "metadata": {},
   "source": [
    "Q.Create a dictionary of your marks in various subjects and then sort it by its values first in descending order, and then in or ascending order. Do not use any inbuilt sorting functions"
   ]
  },
  {
   "cell_type": "code",
   "execution_count": 13,
   "metadata": {},
   "outputs": [
    {
     "name": "stdout",
     "output_type": "stream",
     "text": [
      "dictionary in ascending order is: {'chemistry': 67, 'maths': 89, 'physics': 98}\n",
      "dictionary in descending order is: {'physics': 98, 'maths': 89, 'chemistry': 67}\n"
     ]
    }
   ],
   "source": [
    "my_dict={\"physics\":98,\"chemistry\":67,\"maths\":89}\n",
    "dict_des={}\n",
    "dict_asc={}\n",
    "new_list1=list(my_dict.values())\n",
    "new_list2=list(my_dict.values())\n",
    "#taking the case for ascending order \n",
    "#first making the list in ascending order\n",
    "for i in range(len(new_list1)):\n",
    "    for j in range(i+1,len(new_list1)):\n",
    "        if new_list1[i]>new_list1[j]:\n",
    "            new_list1[i],new_list1[j]=new_list1[j],new_list1[i]\n",
    "#now making the dictionary in ascending order\n",
    "for v in new_list1:            \n",
    "    for key,value in my_dict.items():\n",
    "        if value==v:\n",
    "            dict_asc[key]=value\n",
    "print(\"dictionary in ascending order is:\",dict_asc)\n",
    "#taking the case for descending order\n",
    "#first making the list in descending order\n",
    "for i in range(len(new_list2)):\n",
    "    for i in range(i+1,len(new_list2)):\n",
    "        if new_list2[i]<new_list2[j]:\n",
    "             new_list2[i],new_list2[j]=new_list2[j],new_list2[i]\n",
    "#now making the dictionary in ascending order             \n",
    "for w in new_list2:\n",
    "    for key,value in my_dict.items():\n",
    "        if value==w:\n",
    "            dict_des[key]=value\n",
    "print(\"dictionary in descending order is:\",dict_des)\n",
    "            \n",
    "            \n",
    "    \n",
    "            \n"
   ]
  }
 ],
 "metadata": {
  "kernelspec": {
   "display_name": "Python 3",
   "language": "python",
   "name": "python3"
  },
  "language_info": {
   "codemirror_mode": {
    "name": "ipython",
    "version": 3
   },
   "file_extension": ".py",
   "mimetype": "text/x-python",
   "name": "python",
   "nbconvert_exporter": "python",
   "pygments_lexer": "ipython3",
   "version": "3.11.4"
  }
 },
 "nbformat": 4,
 "nbformat_minor": 2
}
