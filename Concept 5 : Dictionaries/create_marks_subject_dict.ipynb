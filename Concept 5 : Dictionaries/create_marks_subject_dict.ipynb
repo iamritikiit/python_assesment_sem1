{
 "cells": [
  {
   "cell_type": "markdown",
   "metadata": {},
   "source": [
    "Create a dictionary to store the total marks of 5 students in the class in 3 subjects (Course1, Course2, Course3). The keys must be the student names, and the values must be the list of marks. Create another list which has the course names in the same order as the marks are stored in the dictionary values. Now write a nested for loop to print the marks for each student exam wise.\n",
    "Student1\n",
    "Course1 marks : 82\n",
    "Course2 marks : 84\n",
    "Course3 marks : 72\n",
    "Student2\n",
    "Course1 marks : 87\n",
    "Course2 marks : 83\n",
    "Course3 marks : 78"
   ]
  },
  {
   "cell_type": "code",
   "execution_count": 12,
   "metadata": {},
   "outputs": [
    {
     "name": "stdout",
     "output_type": "stream",
     "text": [
      "Ritik\n",
      "maths marks is: 97\n",
      "physics marks is: 98\n",
      "chemistry marks is: 89\n",
      "-----------------------------------\n",
      "Xavier\n",
      "maths marks is: 56\n",
      "physics marks is: 59\n",
      "chemistry marks is: 94\n",
      "-----------------------------------\n",
      "Monte\n",
      "maths marks is: 45\n",
      "physics marks is: 34\n",
      "chemistry marks is: 90\n",
      "-----------------------------------\n",
      "Santa\n",
      "maths marks is: 77\n",
      "physics marks is: 67\n",
      "chemistry marks is: 29\n",
      "-----------------------------------\n",
      "Banta\n",
      "maths marks is: 56\n",
      "physics marks is: 89\n",
      "chemistry marks is: 90\n",
      "-----------------------------------\n"
     ]
    }
   ],
   "source": [
    "# first taken dictionary and list according to question\n",
    "dict1={\"Ritik\":[97,98,89],\"Xavier\":[56,59,94],\"Monte\":[45,34,90],\"Santa\":[77,67,29],\"Banta\":[56,89,90]}\n",
    "list_subjects=[\"maths\",\"physics\",\"chemistry\"]\n",
    "#Now applying two for loops to do the required actions\n",
    "for key,value in dict1.items():\n",
    "    print(key)\n",
    "    for i in range(len(value)):\n",
    "        print(list_subjects[i],\"marks is:\",value[i])\n",
    "    print(\"-----------------------------------\")\n",
    "\n"
   ]
  }
 ],
 "metadata": {
  "kernelspec": {
   "display_name": "Python 3",
   "language": "python",
   "name": "python3"
  },
  "language_info": {
   "codemirror_mode": {
    "name": "ipython",
    "version": 3
   },
   "file_extension": ".py",
   "mimetype": "text/x-python",
   "name": "python",
   "nbconvert_exporter": "python",
   "pygments_lexer": "ipython3",
   "version": "3.11.4"
  }
 },
 "nbformat": 4,
 "nbformat_minor": 2
}
