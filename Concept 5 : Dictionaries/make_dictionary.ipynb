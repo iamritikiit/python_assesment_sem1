{
 "cells": [
  {
   "cell_type": "markdown",
   "metadata": {},
   "source": [
    "Q.Convert these two lists into a dictionary. Take the keys from the first list, and values from the second one.\n",
    "keys = [‘Ten’, ‘Twenty’, ‘Thirty’]\n",
    "values = [10, 20, 30]"
   ]
  },
  {
   "cell_type": "code",
   "execution_count": 4,
   "metadata": {},
   "outputs": [
    {
     "name": "stdout",
     "output_type": "stream",
     "text": [
      "{'Ten': 10, 'Twenty': 20, 'Thirty': 30}\n"
     ]
    }
   ],
   "source": [
    "# taking values from the question\n",
    "keys = ['Ten', 'Twenty', 'Thirty']\n",
    "values = [10, 20, 30]\n",
    "dict1={} #taken an empty dictionary \n",
    "if len(keys)==len(values): #checking condition for two list to be merged \n",
    "    for i in range(len(keys)):\n",
    "        dict1[keys[i]]=values[i]\n",
    "    print(dict1)\n",
    "else:\n",
    "    print(\"the list cann't be merged to form a dictionary\")\n",
    "\n"
   ]
  }
 ],
 "metadata": {
  "kernelspec": {
   "display_name": "Python 3",
   "language": "python",
   "name": "python3"
  },
  "language_info": {
   "codemirror_mode": {
    "name": "ipython",
    "version": 3
   },
   "file_extension": ".py",
   "mimetype": "text/x-python",
   "name": "python",
   "nbconvert_exporter": "python",
   "pygments_lexer": "ipython3",
   "version": "3.11.4"
  }
 },
 "nbformat": 4,
 "nbformat_minor": 2
}
