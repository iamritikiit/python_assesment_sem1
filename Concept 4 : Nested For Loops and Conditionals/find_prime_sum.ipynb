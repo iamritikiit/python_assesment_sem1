{
 "cells": [
  {
   "cell_type": "markdown",
   "metadata": {},
   "source": [
    "Q.Given a positive integer, find out the sum of all prime numbers from 1 up to this number"
   ]
  },
  {
   "cell_type": "code",
   "execution_count": 1,
   "metadata": {},
   "outputs": [],
   "source": [
    "def func_prime_sum(x):\n",
    "    lst_prime=[]\n",
    "    sum_prime=0\n",
    "    if isinstance(x,int) and x>1:\n",
    "        for i in range(2,x+1): #first iterating for numbers in the range of x\n",
    "            adder=0\n",
    "            for j in range(2,int(i**(0.5))+1): #now iterating for numbers in the range of i\n",
    "                if i%j==0:\n",
    "                    adder+=1\n",
    "            if adder==0: #checking condition for a number to be prime\n",
    "                lst_prime.append(i)\n",
    "        for item in lst_prime:\n",
    "            sum_prime+=item\n",
    "        return sum_prime\n",
    "    else:\n",
    "        return 0 #returning 0 for the numbers for which prime is not defined"
   ]
  },
  {
   "cell_type": "code",
   "execution_count": 2,
   "metadata": {},
   "outputs": [
    {
     "data": {
      "text/plain": [
       "10"
      ]
     },
     "execution_count": 2,
     "metadata": {},
     "output_type": "execute_result"
    }
   ],
   "source": [
    "func_prime_sum(6)"
   ]
  },
  {
   "cell_type": "code",
   "execution_count": 3,
   "metadata": {},
   "outputs": [
    {
     "data": {
      "text/plain": [
       "0"
      ]
     },
     "execution_count": 3,
     "metadata": {},
     "output_type": "execute_result"
    }
   ],
   "source": [
    "func_prime_sum(-1)"
   ]
  },
  {
   "cell_type": "code",
   "execution_count": 4,
   "metadata": {},
   "outputs": [
    {
     "data": {
      "text/plain": [
       "10"
      ]
     },
     "execution_count": 4,
     "metadata": {},
     "output_type": "execute_result"
    }
   ],
   "source": [
    "func_prime_sum(5)"
   ]
  }
 ],
 "metadata": {
  "kernelspec": {
   "display_name": "Python 3",
   "language": "python",
   "name": "python3"
  },
  "language_info": {
   "codemirror_mode": {
    "name": "ipython",
    "version": 3
   },
   "file_extension": ".py",
   "mimetype": "text/x-python",
   "name": "python",
   "nbconvert_exporter": "python",
   "pygments_lexer": "ipython3",
   "version": "3.11.4"
  }
 },
 "nbformat": 4,
 "nbformat_minor": 2
}
