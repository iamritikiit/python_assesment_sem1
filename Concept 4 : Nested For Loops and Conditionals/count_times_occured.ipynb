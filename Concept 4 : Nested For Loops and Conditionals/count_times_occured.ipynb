{
 "cells": [
  {
   "cell_type": "markdown",
   "metadata": {},
   "source": [
    "Q.Given a list of numbers, find out how many times each number occurs in the list"
   ]
  },
  {
   "cell_type": "code",
   "execution_count": 4,
   "metadata": {},
   "outputs": [
    {
     "name": "stdout",
     "output_type": "stream",
     "text": [
      "2 has occured 4 times\n",
      "3 has occured 3 times\n",
      "5 has occured 1 times\n",
      "6 has occured 1 times\n",
      "7 has occured 1 times\n"
     ]
    }
   ],
   "source": [
    "lst_given=[2,3,2,5,6,7,3,2,2,3]  #taken a list already from the user\n",
    "lst_check=[]\n",
    "for i in lst_given:\n",
    "    count=0\n",
    "    if i not in lst_check: #checking for repetation of element\n",
    "        lst_check.append(i)\n",
    "        for j in lst_given: #checking for each element occurence taken above\n",
    "            if j==i:\n",
    "                count+=1\n",
    "        print(i,\"has occured\",count,\"times\")\n",
    "                    \n",
    "            \n",
    "        "
   ]
  }
 ],
 "metadata": {
  "kernelspec": {
   "display_name": "Python 3",
   "language": "python",
   "name": "python3"
  },
  "language_info": {
   "codemirror_mode": {
    "name": "ipython",
    "version": 3
   },
   "file_extension": ".py",
   "mimetype": "text/x-python",
   "name": "python",
   "nbconvert_exporter": "python",
   "pygments_lexer": "ipython3",
   "version": "3.11.4"
  }
 },
 "nbformat": 4,
 "nbformat_minor": 2
}
