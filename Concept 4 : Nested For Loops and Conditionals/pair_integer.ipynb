{
 "cells": [
  {
   "cell_type": "markdown",
   "metadata": {},
   "source": [
    "Q.Given a list of integers, find all pairs of integers in the list whose sum is zero."
   ]
  },
  {
   "cell_type": "code",
   "execution_count": 5,
   "metadata": {},
   "outputs": [
    {
     "name": "stdout",
     "output_type": "stream",
     "text": [
      "( 3 -3 )\n",
      "( -3 3 )\n",
      "( 6 -6 )\n",
      "( -6 6 )\n"
     ]
    }
   ],
   "source": [
    "lst=[2,3,-3,6,2,-6]  #taking a list randomly (here we can take any other list also)\n",
    "lst_check=[]\n",
    "for i in lst: #first iterating in lst\n",
    "    if i not in lst_check: #checking ,So that the element doesn't repeat itself\n",
    "        lst_check.append(i)\n",
    "        for j in lst:  #again iterating the element to check the condition\n",
    "            if i+j==0:\n",
    "                print(\"(\",i,j,\")\")\n",
    "    "
   ]
  }
 ],
 "metadata": {
  "kernelspec": {
   "display_name": "Python 3",
   "language": "python",
   "name": "python3"
  },
  "language_info": {
   "codemirror_mode": {
    "name": "ipython",
    "version": 3
   },
   "file_extension": ".py",
   "mimetype": "text/x-python",
   "name": "python",
   "nbconvert_exporter": "python",
   "pygments_lexer": "ipython3",
   "version": "3.11.4"
  }
 },
 "nbformat": 4,
 "nbformat_minor": 2
}
