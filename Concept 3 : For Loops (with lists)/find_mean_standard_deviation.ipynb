{
 "cells": [
  {
   "cell_type": "markdown",
   "metadata": {},
   "source": [
    "Q.Given a list of numbers, find out the mean and standard deviation"
   ]
  },
  {
   "cell_type": "code",
   "execution_count": 21,
   "metadata": {},
   "outputs": [],
   "source": [
    "def input_list(listin): #taking input from the user in the form of list\n",
    "    adder=0\n",
    "    std_div=0\n",
    "    #calculating mean first\n",
    "    for i in listin:   \n",
    "        adder+=i\n",
    "    mean=adder/len(listin) #mean\n",
    "    #calculating standard deviation with the help of mean\n",
    "    for i in listin:\n",
    "        std_div+=(mean-i)**2\n",
    "    return \"mean is:\"+str(mean),\"standard deviation is:\"+str(((std_div)/(len(listin)))**(0.5))\n",
    "        \n",
    "        "
   ]
  },
  {
   "cell_type": "code",
   "execution_count": 22,
   "metadata": {},
   "outputs": [
    {
     "data": {
      "text/plain": [
       "('mean is:4.2', 'standard deviation is:1.7204650534085253')"
      ]
     },
     "execution_count": 22,
     "metadata": {},
     "output_type": "execute_result"
    }
   ],
   "source": [
    "listin=[3,4,5,2,7]\n",
    "input_list(listin)"
   ]
  }
 ],
 "metadata": {
  "kernelspec": {
   "display_name": "Python 3",
   "language": "python",
   "name": "python3"
  },
  "language_info": {
   "codemirror_mode": {
    "name": "ipython",
    "version": 3
   },
   "file_extension": ".py",
   "mimetype": "text/x-python",
   "name": "python",
   "nbconvert_exporter": "python",
   "pygments_lexer": "ipython3",
   "version": "3.11.4"
  }
 },
 "nbformat": 4,
 "nbformat_minor": 2
}
