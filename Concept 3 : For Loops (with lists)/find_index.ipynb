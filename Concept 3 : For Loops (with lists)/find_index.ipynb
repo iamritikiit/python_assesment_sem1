{
 "cells": [
  {
   "cell_type": "markdown",
   "metadata": {},
   "source": [
    "Q.Given a list of numbers, find out the index of another given number."
   ]
  },
  {
   "cell_type": "code",
   "execution_count": 5,
   "metadata": {},
   "outputs": [
    {
     "name": "stdout",
     "output_type": "stream",
     "text": [
      "1\n"
     ]
    }
   ],
   "source": [
    "lst1=[2,3,4,5,2,4]\n",
    "num=int(input(\"enter an integer\"))\n",
    "if num in lst1:  #checking if the number belongs to the list or not\n",
    "    for i in range(len(lst1)):\n",
    "        if num==lst1[i]:\n",
    "            print(i)\n",
    "else:\n",
    "    print(\"the number doesn't belong to the list\")\n",
    "\n",
    "    \n",
    "    "
   ]
  },
  {
   "cell_type": "markdown",
   "metadata": {},
   "source": [
    "Test Cases:\n",
    "1.input:23\n",
    "  output:the number doesn't belong to the list|\n",
    "2.input:2\n",
    "  output:0,4|"
   ]
  }
 ],
 "metadata": {
  "kernelspec": {
   "display_name": "Python 3",
   "language": "python",
   "name": "python3"
  },
  "language_info": {
   "codemirror_mode": {
    "name": "ipython",
    "version": 3
   },
   "file_extension": ".py",
   "mimetype": "text/x-python",
   "name": "python",
   "nbconvert_exporter": "python",
   "pygments_lexer": "ipython3",
   "version": "3.11.4"
  }
 },
 "nbformat": 4,
 "nbformat_minor": 2
}
