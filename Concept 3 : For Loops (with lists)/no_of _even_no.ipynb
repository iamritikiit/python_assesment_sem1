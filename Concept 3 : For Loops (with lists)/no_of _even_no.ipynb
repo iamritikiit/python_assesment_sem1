{
 "cells": [
  {
   "cell_type": "markdown",
   "metadata": {},
   "source": [
    "Q.Given a list of numbers, find out how many even numbers it has"
   ]
  },
  {
   "cell_type": "code",
   "execution_count": 6,
   "metadata": {},
   "outputs": [],
   "source": [
    "def input_list(listin): #taking input from the user in the form of list\n",
    "    adder=0\n",
    "    for i in listin:\n",
    "        if i%2==0:\n",
    "            adder+=1\n",
    "    return adder"
   ]
  },
  {
   "cell_type": "code",
   "execution_count": 5,
   "metadata": {},
   "outputs": [
    {
     "data": {
      "text/plain": [
       "3"
      ]
     },
     "execution_count": 5,
     "metadata": {},
     "output_type": "execute_result"
    }
   ],
   "source": [
    "list_all=[2,3,-6,-8]\n",
    "input_list(list_all)"
   ]
  },
  {
   "cell_type": "markdown",
   "metadata": {},
   "source": [
    "Test Cases:\n",
    "1.input:[2,3,4,6,5]\n",
    "  output:3|\n",
    "2.input:[]\n",
    "  output:0|\n",
    "3.input:[2,3,-6,-8]\n",
    "  output:3|"
   ]
  }
 ],
 "metadata": {
  "kernelspec": {
   "display_name": "Python 3",
   "language": "python",
   "name": "python3"
  },
  "language_info": {
   "codemirror_mode": {
    "name": "ipython",
    "version": 3
   },
   "file_extension": ".py",
   "mimetype": "text/x-python",
   "name": "python",
   "nbconvert_exporter": "python",
   "pygments_lexer": "ipython3",
   "version": "3.11.4"
  }
 },
 "nbformat": 4,
 "nbformat_minor": 2
}
