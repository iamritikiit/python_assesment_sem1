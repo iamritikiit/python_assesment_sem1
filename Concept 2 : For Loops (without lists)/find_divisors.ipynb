{
 "cells": [
  {
   "cell_type": "markdown",
   "metadata": {},
   "source": [
    "Q.Given a positive integer, find all its divisors"
   ]
  },
  {
   "cell_type": "code",
   "execution_count": 5,
   "metadata": {},
   "outputs": [
    {
     "name": "stdout",
     "output_type": "stream",
     "text": [
      "1\n",
      "2\n"
     ]
    }
   ],
   "source": [
    "num=int(input(\"enter a positive integer\"))\n",
    "if num>0:\n",
    "    for i in range(1,num+1):\n",
    "        if num % i==0: #as divisor is a number which leaves no remainder on dividing the number\n",
    "            print(i)\n",
    "else:\n",
    "    print(\"enter a positive integer\")\n",
    "            "
   ]
  },
  {
   "cell_type": "markdown",
   "metadata": {},
   "source": [
    "Test Cases:\n",
    "1.input:2\n",
    "  output:1,2|\n",
    "2.input:34\n",
    "  output:1,2,17,34|\n",
    "3.input:-2\n",
    "  output:enter a positive integer|"
   ]
  }
 ],
 "metadata": {
  "kernelspec": {
   "display_name": "Python 3",
   "language": "python",
   "name": "python3"
  },
  "language_info": {
   "codemirror_mode": {
    "name": "ipython",
    "version": 3
   },
   "file_extension": ".py",
   "mimetype": "text/x-python",
   "name": "python",
   "nbconvert_exporter": "python",
   "pygments_lexer": "ipython3",
   "version": "3.11.4"
  }
 },
 "nbformat": 4,
 "nbformat_minor": 2
}
