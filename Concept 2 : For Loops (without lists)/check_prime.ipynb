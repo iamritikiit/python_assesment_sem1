{
 "cells": [
  {
   "cell_type": "markdown",
   "metadata": {},
   "source": [
    "Q.Given a positive integer, find out if it’s prime or not"
   ]
  },
  {
   "cell_type": "code",
   "execution_count": 8,
   "metadata": {},
   "outputs": [],
   "source": [
    "def func_prime(n): #taking input frome the user\n",
    "    count=0\n",
    "    if n>1:\n",
    "        for i in range(2,int(n**(0.5))+1):\n",
    "            if n%i==0:\n",
    "                count+=1\n",
    "        #conditions for a number to be prime\n",
    "        if count==0:\n",
    "            return \"it is prime\"\n",
    "        else:\n",
    "            return \"it is not prime\"\n",
    "    else:\n",
    "        return \"prime is not defined\"\n",
    "        "
   ]
  },
  {
   "cell_type": "code",
   "execution_count": 13,
   "metadata": {},
   "outputs": [
    {
     "data": {
      "text/plain": [
       "'it is not prime'"
      ]
     },
     "execution_count": 13,
     "metadata": {},
     "output_type": "execute_result"
    }
   ],
   "source": [
    "func_prime(22)\n"
   ]
  },
  {
   "cell_type": "markdown",
   "metadata": {},
   "source": [
    "Test Cases:\n",
    "1.input:1\n",
    "  output:'prime is not defined'|\n",
    "2.input:5\n",
    "  output:'it is prime'|\n",
    "3.input:22\n",
    "  output:'it is not prime'|"
   ]
  }
 ],
 "metadata": {
  "kernelspec": {
   "display_name": "Python 3",
   "language": "python",
   "name": "python3"
  },
  "language_info": {
   "codemirror_mode": {
    "name": "ipython",
    "version": 3
   },
   "file_extension": ".py",
   "mimetype": "text/x-python",
   "name": "python",
   "nbconvert_exporter": "python",
   "pygments_lexer": "ipython3",
   "version": "3.11.4"
  }
 },
 "nbformat": 4,
 "nbformat_minor": 2
}
