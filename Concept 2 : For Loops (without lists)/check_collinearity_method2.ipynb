{
 "cells": [
  {
   "cell_type": "markdown",
   "metadata": {},
   "source": [
    "Q.Given three points, find out whether they lie on the same straight line or not."
   ]
  },
  {
   "cell_type": "code",
   "execution_count": 6,
   "metadata": {},
   "outputs": [],
   "source": [
    "def check_collinearity(x1,y1,x2,y2,x3,y3):  #taking input from the user in the form of points using function\n",
    "    area=(0.5)*(x1*(y2-y3)+x2*(y3-y1)+x3*(y1-y2))\n",
    "    if area==0:  #as we know that area of straight line is always zero\n",
    "        return \"it lies on straight line\"\n",
    "    else:\n",
    "        return \"it doesn't lie on straight line\""
   ]
  },
  {
   "cell_type": "code",
   "execution_count": 5,
   "metadata": {},
   "outputs": [
    {
     "data": {
      "text/plain": [
       "\"it doesn't lie on straight line\""
      ]
     },
     "execution_count": 5,
     "metadata": {},
     "output_type": "execute_result"
    }
   ],
   "source": [
    "check_collinearity(1,5,2,5,4,6)"
   ]
  },
  {
   "cell_type": "markdown",
   "metadata": {},
   "source": [
    "Test Cases:\n",
    "1.input:(1,4,5,4,6,7)\n",
    "  output:\"it doesn't lie on straight line\"|\n",
    "2.input:(1,1,1,4,1,5)\n",
    "  output:'it lies on straight line'|\n",
    "3.input:(1,5,2,5,4,6)\n",
    "  output:\"it doesn't lie on straight line\"|"
   ]
  }
 ],
 "metadata": {
  "kernelspec": {
   "display_name": "Python 3",
   "language": "python",
   "name": "python3"
  },
  "language_info": {
   "codemirror_mode": {
    "name": "ipython",
    "version": 3
   },
   "file_extension": ".py",
   "mimetype": "text/x-python",
   "name": "python",
   "nbconvert_exporter": "python",
   "pygments_lexer": "ipython3",
   "version": "3.11.4"
  }
 },
 "nbformat": 4,
 "nbformat_minor": 2
}
