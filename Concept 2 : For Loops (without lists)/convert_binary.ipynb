{
 "cells": [
  {
   "cell_type": "markdown",
   "metadata": {},
   "source": [
    "Q.Given a positive integer, convert it into binary, and vice-versa"
   ]
  },
  {
   "cell_type": "code",
   "execution_count": 1,
   "metadata": {},
   "outputs": [
    {
     "name": "stdout",
     "output_type": "stream",
     "text": [
      "10111"
     ]
    }
   ],
   "source": [
    "#Converting decimal into binary\n",
    "n=int(input(\"enter a positve integer\"))\n",
    "lst_decimal=[]\n",
    "while (n>0):\n",
    "    r=n%2 #getting the remainder after dividing the number by 2\n",
    "    n=n//2 #obtaining the number after dividing it after 2\n",
    "    lst_decimal.append(r)\n",
    "lst_decimal.reverse() #reversing the list obtained\n",
    "for i in lst_decimal:\n",
    "    print(i,end=\"\") #used end function here to omit all the commas and space\n"
   ]
  },
  {
   "cell_type": "code",
   "execution_count": 3,
   "metadata": {},
   "outputs": [
    {
     "name": "stdout",
     "output_type": "stream",
     "text": [
      "5\n"
     ]
    }
   ],
   "source": [
    "#converting the binary into decimal\n",
    "b=str(input(\"enter the binary number\"))\n",
    "sum_=0\n",
    "for i in range(len(b)):\n",
    "    a=int(b[len(b)-1-i]) #taking the iteration in the reverse order\n",
    "    sum_+=2**(i)*a  #using the process involved to calculate the decimal number\n",
    "print(sum_)\n"
   ]
  }
 ],
 "metadata": {
  "kernelspec": {
   "display_name": "Python 3",
   "language": "python",
   "name": "python3"
  },
  "language_info": {
   "codemirror_mode": {
    "name": "ipython",
    "version": 3
   },
   "file_extension": ".py",
   "mimetype": "text/x-python",
   "name": "python",
   "nbconvert_exporter": "python",
   "pygments_lexer": "ipython3",
   "version": "3.11.4"
  }
 },
 "nbformat": 4,
 "nbformat_minor": 2
}
