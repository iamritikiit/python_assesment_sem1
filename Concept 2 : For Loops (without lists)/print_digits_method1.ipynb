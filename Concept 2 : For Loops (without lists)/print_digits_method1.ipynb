{
 "cells": [
  {
   "cell_type": "markdown",
   "metadata": {},
   "source": [
    "Q.Given a positive integer, print each of its digits separately without converting the number into a string\n"
   ]
  },
  {
   "cell_type": "code",
   "execution_count": 13,
   "metadata": {},
   "outputs": [],
   "source": [
    "import math  #importing math module to use log function\n",
    "def func_digits(n):\n",
    "    lst_digits=[]\n",
    "    #calculating the no of digits in the given number\n",
    "    digits=int(math.log10(n))+1\n",
    "    for i in range(digits):\n",
    "        power=10**(digits-1-i) #taking out the nearest power of ten to be divided on the number to get single digit\n",
    "        s_digit=int(n/power)  #dividing the no. with power so that to take out that digit\n",
    "        lst_digits.append(s_digit)\n",
    "        n=n-s_digit*power #again obtaining the no. except from the digit which we have already written\n",
    "    return lst_digits\n",
    "        \n",
    "    \n",
    "    \n",
    "        \n",
    "    "
   ]
  },
  {
   "cell_type": "code",
   "execution_count": 15,
   "metadata": {},
   "outputs": [
    {
     "data": {
      "text/plain": [
       "[7, 6]"
      ]
     },
     "execution_count": 15,
     "metadata": {},
     "output_type": "execute_result"
    }
   ],
   "source": [
    "func_digits(76)"
   ]
  },
  {
   "cell_type": "markdown",
   "metadata": {},
   "source": [
    "Test Cases:\n",
    "1.input:545\n",
    "  output:[5, 4, 5]|\n",
    "2.input:76\n",
    "  output:[7, 6]|"
   ]
  }
 ],
 "metadata": {
  "kernelspec": {
   "display_name": "Python 3",
   "language": "python",
   "name": "python3"
  },
  "language_info": {
   "codemirror_mode": {
    "name": "ipython",
    "version": 3
   },
   "file_extension": ".py",
   "mimetype": "text/x-python",
   "name": "python",
   "nbconvert_exporter": "python",
   "pygments_lexer": "ipython3",
   "version": "3.11.4"
  }
 },
 "nbformat": 4,
 "nbformat_minor": 2
}
