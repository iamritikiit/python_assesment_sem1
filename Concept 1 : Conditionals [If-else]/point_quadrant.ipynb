{
 "cells": [
  {
   "cell_type": "markdown",
   "metadata": {},
   "source": [
    "Q.Given a point (x1, y1), find the quadrant in which this point lies."
   ]
  },
  {
   "cell_type": "code",
   "execution_count": 10,
   "metadata": {},
   "outputs": [],
   "source": [
    "def func_point(x,y):#taking input from the user\n",
    "#conditions for the aforesaid problem\n",
    "    if x>0 and y>0:\n",
    "        return \"first quadrant\"\n",
    "    elif x>0 and y<0:\n",
    "        return \"fourth quadrant\"\n",
    "    elif x<0 and y>0:\n",
    "        return \"second quadrant\"\n",
    "    elif x<0 and y<0:\n",
    "        return \"third quadrant\"\n",
    "    elif x==0 and y==0:\n",
    "        return \"it is at the origin\"\n",
    "    elif x==0 and y!=0:\n",
    "        return \"it is on the y-axis\"\n",
    "    elif x!=0 and y==0:\n",
    "        return \"it is on the x-axis\"\n",
    "    "
   ]
  },
  {
   "cell_type": "code",
   "execution_count": 11,
   "metadata": {},
   "outputs": [
    {
     "data": {
      "text/plain": [
       "'third quadrant'"
      ]
     },
     "execution_count": 11,
     "metadata": {},
     "output_type": "execute_result"
    }
   ],
   "source": [
    "func_point(-1,-3)"
   ]
  },
  {
   "cell_type": "markdown",
   "metadata": {},
   "source": [
    "Test Cases:\n",
    "1.input:(4,7)\n",
    "  output:'first quadrant'|\n",
    "2.input:(4,-7)\n",
    "  output:'fourth quadrant'|\n",
    "3.input:(0,5)\n",
    "  output:'it is on the y-axis'|\n",
    "4.input:(-4,0)\n",
    "  output:'it is on the x-axis'|\n",
    "5.input:(-1,-3)\n",
    "  output:'third quadrant'|"
   ]
  }
 ],
 "metadata": {
  "kernelspec": {
   "display_name": "Python 3",
   "language": "python",
   "name": "python3"
  },
  "language_info": {
   "codemirror_mode": {
    "name": "ipython",
    "version": 3
   },
   "file_extension": ".py",
   "mimetype": "text/x-python",
   "name": "python",
   "nbconvert_exporter": "python",
   "pygments_lexer": "ipython3",
   "version": "3.11.4"
  }
 },
 "nbformat": 4,
 "nbformat_minor": 2
}
