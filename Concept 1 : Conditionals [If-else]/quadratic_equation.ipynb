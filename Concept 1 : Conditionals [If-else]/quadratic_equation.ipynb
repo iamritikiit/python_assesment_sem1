{
 "cells": [
  {
   "cell_type": "markdown",
   "metadata": {},
   "source": [
    "Q.Given a quadratic equation with coefficients a, b and c, find the two solutions (may be real or complex). You should not take the square root of a negative number in your code."
   ]
  },
  {
   "cell_type": "code",
   "execution_count": 48,
   "metadata": {},
   "outputs": [],
   "source": [
    "def func_quadratic(a,b,c):  #taking input from the user\n",
    "    import math\n",
    "    dis_t=(b**2-4*a*c)  #calculating the discriminant\n",
    "    #checking conditions\n",
    "    if a!=0 and dis_t>=0:  #taking out roots when discriminant is greater than or equal to zero.\n",
    "        sol1=(-b+(dis_t)**(0.5))/2*a  #quadratic formula:x=-b(+,-)(d)**(0.5)\n",
    "        sol2=(-b-(dis_t)**(0.5))/2*a\n",
    "        return sol1,sol2\n",
    "    elif a!=0 and dis_t<0:\n",
    "        i=(-dis_t)**(0.5)  #calculating imaginary roots\n",
    "        r=-b/(2*a)  #calculating real roots\n",
    "        #using complex function to bring output of solutions having complex roots also\n",
    "        sol1=complex(r,i)\n",
    "        sol2=complex(r,-i)\n",
    "        return  sol1,sol2\n",
    "    #when user doesn't puts the first coffiecient as zero\n",
    "    elif a==0 and b!=0:\n",
    "        return -c/b\n",
    "    else:  #when the user puts both first and second coffiecient as zero\n",
    "        return \"enter a quadratic equation\"\n"
   ]
  },
  {
   "cell_type": "code",
   "execution_count": 49,
   "metadata": {},
   "outputs": [
    {
     "data": {
      "text/plain": [
       "(-1.0, -1.0)"
      ]
     },
     "execution_count": 49,
     "metadata": {},
     "output_type": "execute_result"
    }
   ],
   "source": [
    "func_quadratic(1,2,1)"
   ]
  },
  {
   "cell_type": "markdown",
   "metadata": {},
   "source": [
    "Test Cases:\n",
    "1.input:(1,1,1)\n",
    "  output:((-0.5+1.7320508075688772j), (-0.5-1.7320508075688772j))|\n",
    "2.input:(0,4,1)\n",
    "  output:-0.25|\n",
    "3.input:(2,3,1)\n",
    "  output:(-2.0, -4.0)|\n",
    "4.input:(0,0,3)\n",
    "  output:'enter a quadratic equation'|\n",
    "5.input:(1,2,1)\n",
    "  output:(-1.0, -1.0)|\n",
    "\n"
   ]
  }
 ],
 "metadata": {
  "kernelspec": {
   "display_name": "Python 3",
   "language": "python",
   "name": "python3"
  },
  "language_info": {
   "codemirror_mode": {
    "name": "ipython",
    "version": 3
   },
   "file_extension": ".py",
   "mimetype": "text/x-python",
   "name": "python",
   "nbconvert_exporter": "python",
   "pygments_lexer": "ipython3",
   "version": "3.11.4"
  }
 },
 "nbformat": 4,
 "nbformat_minor": 2
}
