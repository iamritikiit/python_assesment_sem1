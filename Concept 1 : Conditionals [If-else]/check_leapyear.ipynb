{
 "cells": [
  {
   "cell_type": "markdown",
   "metadata": {},
   "source": [
    "Q.Given a year, check if it is a leap year or not. A leap year is divisible by 4, except for years that are divisible by 100. However, years that are divisible by 400 are also leap years."
   ]
  },
  {
   "cell_type": "code",
   "execution_count": 24,
   "metadata": {},
   "outputs": [],
   "source": [
    "def leap_year(n):#taking input as year from the user \n",
    "#conditions for an input to be leap year\n",
    "    if n%400==0:\n",
    "        return \"it is leap year\"\n",
    "    elif n%100!=0 and n%4==0:\n",
    "            return \"it is leap year\"\n",
    "    else:\n",
    "        return \"it is not leap year\""
   ]
  },
  {
   "cell_type": "code",
   "execution_count": 25,
   "metadata": {},
   "outputs": [
    {
     "data": {
      "text/plain": [
       "'it is not leap year'"
      ]
     },
     "execution_count": 25,
     "metadata": {},
     "output_type": "execute_result"
    }
   ],
   "source": [
    "leap_year(2021)"
   ]
  },
  {
   "cell_type": "markdown",
   "metadata": {},
   "source": [
    "Test cases:\n",
    "1.input:2000\n",
    "  output:'it is leap year'|\n",
    "2.input:1900\n",
    "  output:'it is not leap year'|\n",
    "3.input:2024\n",
    "  output:'it is leap year'|\n",
    "4.input:2021\n",
    "  output:'it is not leap year'|\n",
    "\n",
    "\n",
    "\n",
    "\n"
   ]
  }
 ],
 "metadata": {
  "kernelspec": {
   "display_name": "Python 3",
   "language": "python",
   "name": "python3"
  },
  "language_info": {
   "codemirror_mode": {
    "name": "ipython",
    "version": 3
   },
   "file_extension": ".py",
   "mimetype": "text/x-python",
   "name": "python",
   "nbconvert_exporter": "python",
   "pygments_lexer": "ipython3",
   "version": "3.11.4"
  }
 },
 "nbformat": 4,
 "nbformat_minor": 2
}
