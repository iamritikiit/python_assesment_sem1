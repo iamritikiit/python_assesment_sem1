{
 "cells": [
  {
   "cell_type": "markdown",
   "metadata": {},
   "source": [
    "Q.Given two points (x1, y1) and (x2, y2), find the slope and intercept of the line joining these two points (the line may be perfectly horizontal or vertical)."
   ]
  },
  {
   "cell_type": "code",
   "execution_count": 18,
   "metadata": {},
   "outputs": [],
   "source": [
    "def point_parameters(x1,y1,x2,y2):  #taking input from user using function\n",
    "    #checking conditions for calculating slope and intercept\n",
    "    if (x1-x2)!=0 and (y1-y2)!=0:\n",
    "        slope=(y1-y2)/(x1-x2)\n",
    "        intercept=y1-slope*(x1)  #y intercept\n",
    "        return \"slope is:\"+str(slope),\"intercept is:\"+str(intercept)\n",
    "    elif (x1-x2)==0:\n",
    "        return \"slope and intercept is undefined\"  #as we are consiedering only y intercept\n",
    "    elif (y1-y2)==0:\n",
    "        slope=0\n",
    "        intercept=y1\n",
    "        return \"slope is 0\",\"intercept is:\"+str(y1)  #y intercept\n",
    "    \n",
    "    \n",
    "    "
   ]
  },
  {
   "cell_type": "code",
   "execution_count": 24,
   "metadata": {},
   "outputs": [
    {
     "data": {
      "text/plain": [
       "'slope and intercept is undefined'"
      ]
     },
     "execution_count": 24,
     "metadata": {},
     "output_type": "execute_result"
    }
   ],
   "source": [
    "point_parameters(1,5,1,-5)"
   ]
  },
  {
   "cell_type": "markdown",
   "metadata": {},
   "source": [
    "Test Cases:\n",
    "1.input:(1,4,5,7)\n",
    "  output:'slope is:0.75', 'intercept is:3.25'|\n",
    "2.input:(3,4,3,7)\n",
    "  output:'slope and intercept is undefined'|\n",
    "3.input:(1,4,8,4)\n",
    "  output:'slope is 0', 'intercept is:4'|\n",
    "4.input:(1,5,1,-5)\n",
    "  output:'slope and intercept is undefined'|"
   ]
  }
 ],
 "metadata": {
  "kernelspec": {
   "display_name": "Python 3",
   "language": "python",
   "name": "python3"
  },
  "language_info": {
   "codemirror_mode": {
    "name": "ipython",
    "version": 3
   },
   "file_extension": ".py",
   "mimetype": "text/x-python",
   "name": "python",
   "nbconvert_exporter": "python",
   "pygments_lexer": "ipython3",
   "version": "3.11.4"
  }
 },
 "nbformat": 4,
 "nbformat_minor": 2
}
