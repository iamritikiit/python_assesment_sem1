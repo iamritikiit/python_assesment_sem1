{
 "cells": [
  {
   "cell_type": "markdown",
   "metadata": {},
   "source": [
    "Q.Given three integers, find the smallest one."
   ]
  },
  {
   "cell_type": "code",
   "execution_count": 6,
   "metadata": {},
   "outputs": [],
   "source": [
    "def func_smallest(a,b,c): #taking three inputs from the user\n",
    "    #checking conditions\n",
    "    if a<=b and a<=c:\n",
    "        return a\n",
    "    elif b<=a and b<=c:\n",
    "        return b\n",
    "    elif c<=a and c<=b:\n",
    "        return c"
   ]
  },
  {
   "cell_type": "code",
   "execution_count": 12,
   "metadata": {},
   "outputs": [
    {
     "data": {
      "text/plain": [
       "10"
      ]
     },
     "execution_count": 12,
     "metadata": {},
     "output_type": "execute_result"
    }
   ],
   "source": [
    "func_smallest(10,10,10)"
   ]
  },
  {
   "cell_type": "markdown",
   "metadata": {},
   "source": [
    "Test Cases:\n",
    "1.input:(2,4,5)\n",
    "  output:2|\n",
    "2.input:(-5,4,-9)\n",
    "  output:-9|\n",
    "3.input:(-2,-9,-10)\n",
    "  output:-10|\n",
    "4.input:(10,10,10)\n",
    "  output:10|"
   ]
  }
 ],
 "metadata": {
  "kernelspec": {
   "display_name": "Python 3",
   "language": "python",
   "name": "python3"
  },
  "language_info": {
   "codemirror_mode": {
    "name": "ipython",
    "version": 3
   },
   "file_extension": ".py",
   "mimetype": "text/x-python",
   "name": "python",
   "nbconvert_exporter": "python",
   "pygments_lexer": "ipython3",
   "version": "3.11.4"
  }
 },
 "nbformat": 4,
 "nbformat_minor": 2
}
