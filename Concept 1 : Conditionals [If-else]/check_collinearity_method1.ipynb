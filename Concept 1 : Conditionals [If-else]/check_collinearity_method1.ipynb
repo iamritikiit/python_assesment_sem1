{
 "cells": [
  {
   "cell_type": "markdown",
   "metadata": {},
   "source": [
    "Q.Given three points, find out whether they lie on the same straight line or not."
   ]
  },
  {
   "cell_type": "code",
   "execution_count": 5,
   "metadata": {},
   "outputs": [],
   "source": [
    "def func_collinear(x1,y1,x2,y2,x3,y3):  #taking input from the user using function\n",
    "    if (x2-x1)!=0 and (x3-x1)!=0:\n",
    "        if (y2-y1)/(x2-x1)==(y3-y1)/(x3-x1):  #when the slopes are equal\n",
    "            return \"they lie on straight line.\"\n",
    "        else:\n",
    "            return \"they don't lie on straight line.\"\n",
    "    elif (x2-x1)==0 and (x3-x1)==0:\n",
    "        return \"they lie on straight line.\"\n",
    "    else:\n",
    "        return \"they don't lie on straight line.\""
   ]
  },
  {
   "cell_type": "code",
   "execution_count": 4,
   "metadata": {},
   "outputs": [
    {
     "data": {
      "text/plain": [
       "\"they don't lie on straight line.\""
      ]
     },
     "execution_count": 4,
     "metadata": {},
     "output_type": "execute_result"
    }
   ],
   "source": [
    "func_collinear(1,4,5,4,6,7)"
   ]
  },
  {
   "cell_type": "markdown",
   "metadata": {},
   "source": [
    "Test Cases:\n",
    "1.input:(1,1,1,4,1,5)\n",
    "  output:'they lie on straight line.'|\n",
    "2.input:(1,5,2,5,4,6)\n",
    "  output:\"they don't lie on straight line.\"|\n",
    "3.input:(1,4,5,4,6,7)\n",
    "  output:\"they don't lie on straight line.\"|"
   ]
  }
 ],
 "metadata": {
  "kernelspec": {
   "display_name": "Python 3",
   "language": "python",
   "name": "python3"
  },
  "language_info": {
   "codemirror_mode": {
    "name": "ipython",
    "version": 3
   },
   "file_extension": ".py",
   "mimetype": "text/x-python",
   "name": "python",
   "nbconvert_exporter": "python",
   "pygments_lexer": "ipython3",
   "version": "3.11.4"
  }
 },
 "nbformat": 4,
 "nbformat_minor": 2
}
