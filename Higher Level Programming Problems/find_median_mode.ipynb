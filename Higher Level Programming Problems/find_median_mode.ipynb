{
 "cells": [
  {
   "cell_type": "markdown",
   "metadata": {},
   "source": [
    "Q.Given a list of numbers, find out the median and mode"
   ]
  },
  {
   "cell_type": "code",
   "execution_count": 7,
   "metadata": {},
   "outputs": [
    {
     "name": "stdout",
     "output_type": "stream",
     "text": [
      "list in ascending order [2, 3, 5, 5, 6, 7, 8, 9, 50]\n",
      "median is: 6\n",
      "mode is: 5\n"
     ]
    }
   ],
   "source": [
    "lst_random=[2,3,5,6,50,8,5,7,9] #taking a list randomly\n",
    "dict_check={}\n",
    "#first arranging the list in ascending order\n",
    "for i in range(len(lst_random)):\n",
    "    for j in range(i+1,len(lst_random)):\n",
    "        if lst_random[i]>lst_random[j]:\n",
    "            lst_random[i],lst_random[j]=lst_random[j],lst_random[i]\n",
    "print(\"list in ascending order\",lst_random)\n",
    "#Now calculating median\n",
    "if len(lst_random)%2!=0:\n",
    "    middle_value=int((len(lst_random)-1)/2)\n",
    "    print(\"median is:\",lst_random[middle_value])\n",
    "else:\n",
    "    middle_value=(lst_random[int(len(lst_random)/2)]+lst_random[int((len(lst_random)/2))-1])/2\n",
    "    print(\"median is:\",middle_value)\n",
    "#calculation of mode\n",
    "lst_unique=[] #creating a list in which no duplicate element should be there\n",
    "for i in lst_random:\n",
    "    if i not in lst_unique:\n",
    "        lst_unique.append(i)\n",
    "#calculating mode by checking the maximum number of occurence\n",
    "a=0\n",
    "for x in lst_unique:\n",
    "    count=0\n",
    "    for y in lst_random:\n",
    "        if y==x:\n",
    "            count+=1\n",
    "    if a<count:\n",
    "        a=count\n",
    "        mode=x\n",
    "print(\"mode is:\",mode)"
   ]
  }
 ],
 "metadata": {
  "kernelspec": {
   "display_name": "Python 3",
   "language": "python",
   "name": "python3"
  },
  "language_info": {
   "codemirror_mode": {
    "name": "ipython",
    "version": 3
   },
   "file_extension": ".py",
   "mimetype": "text/x-python",
   "name": "python",
   "nbconvert_exporter": "python",
   "pygments_lexer": "ipython3",
   "version": "3.11.4"
  }
 },
 "nbformat": 4,
 "nbformat_minor": 2
}
